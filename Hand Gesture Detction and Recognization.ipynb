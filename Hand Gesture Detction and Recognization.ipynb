{
 "cells": [
  {
   "cell_type": "markdown",
   "metadata": {},
   "source": [
    "# Hand Gestures Detection and Recognition Building System for Stroke Patients using Supervised Neural Networks"
   ]
  },
  {
   "cell_type": "markdown",
   "metadata": {},
   "source": [
    "## introduction"
   ]
  },
  {
   "cell_type": "markdown",
   "metadata": {},
   "source": [
    "A sign language is a language which, uses manual communication and body language to convey meaning.\n",
    "This can include combining hand shapes, orientation and movement of the hands, arms or body, and\n",
    "facial expressions to fluidly express a speaker's thoughts .So ,its important language for Persons\n",
    "with disabilities .Patients monitoring techniqueuses image processing and computer vision to produce\n",
    "understanding sign .It keep track of various hands parameters and provides data to analysis it and \n",
    "monitor system. It is depend on gestures language Interpreter of the patients (i.e  interaction  descriptor ).\n",
    "This utility system have  general facility due to its depend on monitoring the patients in different regions.\n",
    "If a patient ask to eat or something else , the system helps him to achieve what he wants, even if \n",
    "this request out of reach .It is used to express of patient wishes  . This method is the easiest\n",
    "way to help the patients and what they need , when the patient unable to walk due to stroke,\n",
    "and what feeling in complete paralysis, except his hands.Then the system completely depend on hands\n",
    "movements.The details of system consist of digital camera connects with active system to monitor\n",
    "closely the SP.The idea of the system is to monitor the patient's hands. Basically, the movement of\n",
    "the patient will be interpreted and compared with the database , depend on special movement build in \n",
    "the system.The system reject any gestures not  exist (contrary to the rules). The error message are\n",
    "displayed when the patient's gesture is out of system rules. "
   ]
  },
  {
   "cell_type": "markdown",
   "metadata": {},
   "source": [
    "## importing basic libraries"
   ]
  },
  {
   "cell_type": "code",
   "execution_count": 3,
   "metadata": {},
   "outputs": [],
   "source": [
    "import pandas as pd \n",
    "import numpy as np\n",
    "import matplotlib.pyplot as plt\n",
    "import cv2 as cv"
   ]
  },
  {
   "cell_type": "markdown",
   "metadata": {},
   "source": [
    "## importing libraries for neural network"
   ]
  },
  {
   "cell_type": "code",
   "execution_count": 5,
   "metadata": {},
   "outputs": [],
   "source": [
    "#importing libraries for taking input as image  \n",
    "from keras.preprocessing.image import ImageDataGenerator,load_img,img_to_array\n",
    "# importing CNN layers\n",
    "from keras.layers import Dense,Flatten,Conv2D,MaxPooling2D,Dropout\n",
    "from keras.models import Model,Sequential\n",
    "from keras.layers import Activation\n",
    "# importing transfer learning techniques\n",
    "from keras.applications.vgg16 import VGG16\n",
    "\n",
    "\n",
    "\n"
   ]
  },
  {
   "cell_type": "code",
   "execution_count": 6,
   "metadata": {},
   "outputs": [],
   "source": [
    "# location of the data folder\n",
    "train_data='hand gesture/train'\n",
    "test_data='hand gesture/test'"
   ]
  },
  {
   "cell_type": "code",
   "execution_count": 7,
   "metadata": {},
   "outputs": [],
   "source": [
    "# sefining image data generator\n",
    "train_datagen=ImageDataGenerator(rescale=1/255,horizontal_flip=True,shear_range=.2,zoom_range=.2)\n",
    "test_datagen=ImageDataGenerator(rescale=1/255)"
   ]
  },
  {
   "cell_type": "code",
   "execution_count": 8,
   "metadata": {},
   "outputs": [
    {
     "name": "stdout",
     "output_type": "stream",
     "text": [
      "Found 2098 images belonging to 7 classes.\n",
      "Found 527 images belonging to 7 classes.\n"
     ]
    }
   ],
   "source": [
    "#taking data from folder\n",
    "train_generator=train_datagen.flow_from_directory(train_data,target_size=(224,224),class_mode='categorical',shuffle=True,batch_size=32)\n",
    "test_generator=test_datagen.flow_from_directory(test_data,target_size=(224,224),class_mode='categorical',shuffle=False,batch_size=32)\n"
   ]
  },
  {
   "cell_type": "code",
   "execution_count": 9,
   "metadata": {},
   "outputs": [
    {
     "data": {
      "text/plain": [
       "{'Request Doctor': 0,\n",
       " 'Request Food': 1,\n",
       " 'Request Help': 2,\n",
       " 'Request Tea': 3,\n",
       " 'Request W.C': 4,\n",
       " 'Request Water': 5,\n",
       " 'nothing': 6}"
      ]
     },
     "execution_count": 9,
     "metadata": {},
     "output_type": "execute_result"
    }
   ],
   "source": [
    "#labels of the target\n",
    "label=train_generator.class_indices\n",
    "label"
   ]
  },
  {
   "cell_type": "code",
   "execution_count": 10,
   "metadata": {},
   "outputs": [],
   "source": [
    "#making Dictionary for output\n",
    "labels={0:'Request Doctor',1:'Request Food',2:'Request Help',3:'Request Tea',4:'Request W.C',5:'Request Water',6:'nothing'}"
   ]
  },
  {
   "cell_type": "markdown",
   "metadata": {},
   "source": [
    "## model using CNN layers\n"
   ]
  },
  {
   "cell_type": "markdown",
   "metadata": {},
   "source": [
    "### we can also use the given model intead of transfer learning but it will not give that much accuracy as compared to transfer learning "
   ]
  },
  {
   "cell_type": "code",
   "execution_count": 11,
   "metadata": {},
   "outputs": [],
   "source": [
    "\n",
    "\n",
    "\n",
    "# model=Sequential()\n",
    "\n",
    "# model.add(Conv2D(200,(3,3),input_shape=(224,224,1)))\n",
    "# model.add(Activation('relu'))\n",
    "# model.add(MaxPooling2D(pool_size=(2,2)))\n",
    "# #The first CNN layer followed by Relu and MaxPooling layers\n",
    "\n",
    "# model.add(Conv2D(100,(3,3)))\n",
    "# model.add(Activation('relu'))\n",
    "# model.add(MaxPooling2D(pool_size=(2,2)))\n",
    "# #The second convolution layer followed by Relu and MaxPooling layers\n",
    "\n",
    "# model.add(Flatten())\n",
    "# model.add(Dropout(0.5))\n",
    "# #Flatten layer to stack the output convolutions from second convolution layer\n",
    "# model.add(Dense(50,activation='relu'))\n",
    "# #Dense layer of 64 neurons\n",
    "# model.add(Dense(6,activation='softmax'))\n",
    "# #The Final layer with two outputs for two categories\n",
    "\n",
    "# model.compile(loss='categorical_crossentropy',optimizer='adam',metrics=['accuracy'])"
   ]
  },
  {
   "cell_type": "markdown",
   "metadata": {},
   "source": [
    "## model using transfer learning"
   ]
  },
  {
   "cell_type": "code",
   "execution_count": 12,
   "metadata": {},
   "outputs": [
    {
     "name": "stdout",
     "output_type": "stream",
     "text": [
      "WARNING:tensorflow:From C:\\Users\\ajay\\Anaconda3\\lib\\site-packages\\tensorflow\\python\\framework\\op_def_library.py:263: colocate_with (from tensorflow.python.framework.ops) is deprecated and will be removed in a future version.\n",
      "Instructions for updating:\n",
      "Colocations handled automatically by placer.\n"
     ]
    }
   ],
   "source": [
    "#model using transfer learning\n",
    "vgg=VGG16(input_shape=(224,224,3),weights='imagenet',include_top=False)\n",
    "for layer in vgg.layers:\n",
    "    layer.trainable=False\n",
    "x=Flatten()(vgg.output)\n",
    "x=Dense(50,activation='relu')(x)\n",
    "final=Dense(7,activation='softmax')(x)\n",
    "model1=Model(inputs=vgg.input,outputs=final)\n",
    "model1.compile(optimizer='adam',loss='categorical_crossentropy',metrics=['accuracy'])"
   ]
  },
  {
   "cell_type": "code",
   "execution_count": 13,
   "metadata": {},
   "outputs": [
    {
     "name": "stdout",
     "output_type": "stream",
     "text": [
      "WARNING:tensorflow:From C:\\Users\\ajay\\Anaconda3\\lib\\site-packages\\tensorflow\\python\\ops\\math_ops.py:3066: to_int32 (from tensorflow.python.ops.math_ops) is deprecated and will be removed in a future version.\n",
      "Instructions for updating:\n",
      "Use tf.cast instead.\n",
      "Epoch 1/5\n",
      "66/66 [==============================] - 1630s 25s/step - loss: 0.3717 - acc: 0.8845 - val_loss: 0.0808 - val_acc: 0.9753\n",
      "Epoch 2/5\n",
      "66/66 [==============================] - 1610s 24s/step - loss: 0.0495 - acc: 0.9825 - val_loss: 0.2314 - val_acc: 0.9412\n",
      "Epoch 3/5\n",
      "66/66 [==============================] - 1605s 24s/step - loss: 0.0149 - acc: 0.9981 - val_loss: 0.1051 - val_acc: 0.9639\n",
      "Epoch 4/5\n",
      "66/66 [==============================] - 1603s 24s/step - loss: 0.0071 - acc: 1.0000 - val_loss: 0.2270 - val_acc: 0.9488\n",
      "Epoch 5/5\n",
      "66/66 [==============================] - 1604s 24s/step - loss: 0.0072 - acc: 0.9991 - val_loss: 0.1906 - val_acc: 0.9526\n"
     ]
    }
   ],
   "source": [
    "#fitting the model\n",
    "hist1=model1.fit_generator(train_generator,epochs=5,steps_per_epoch=len(train_generator),validation_data=test_generator,validation_steps=len(test_generator))"
   ]
  },
  {
   "cell_type": "code",
   "execution_count": 14,
   "metadata": {},
   "outputs": [],
   "source": [
    "model1.save('hand_gesture.h5')"
   ]
  },
  {
   "cell_type": "code",
   "execution_count": 15,
   "metadata": {},
   "outputs": [
    {
     "data": {
      "image/png": "[encoded data removed]",
      "text/plain": [
       "<Figure size 720x504 with 2 Axes>"
      ]
     },
     "metadata": {
      "needs_background": "light"
     },
     "output_type": "display_data"
    }
   ],
   "source": [
    "#data_visualization\n",
    "import matplotlib.pyplot as plt\n",
    "plt.figure(figsize=(10,7))\n",
    "plt.subplot(1,2,1)\n",
    "plt.plot(hist1.history['loss'],'r',label='loss')\n",
    "plt.plot(hist1.history['val_loss'],'g',label='validation_loss')\n",
    "plt.legend()\n",
    "plt.grid(linewidth=2)\n",
    "plt.subplot(1,2,2)\n",
    "plt.plot(hist1.history['acc'],'r',label='accuracy')\n",
    "plt.plot(hist1.history['val_acc'],'g',label='validation_accuracy')\n",
    "plt.legend(loc=1)\n",
    "plt.grid(linewidth=2)\n"
   ]
  },
  {
   "cell_type": "markdown",
   "metadata": {},
   "source": [
    "## live camera or practical implementation"
   ]
  },
  {
   "cell_type": "code",
   "execution_count": 16,
   "metadata": {},
   "outputs": [],
   "source": [
    "#function for detecting the image from the live camera\n",
    "def detect(frame): \n",
    "    cv.rectangle(frame,(100,100),(300,400),(0,255,0),2)\n",
    "    crop=frame[100:400,100:300]\n",
    "    blur=cv.GaussianBlur(crop,(3,3),-1)\n",
    "    ## to convert the image to hsv\n",
    "    \n",
    "    resized=cv.resize(blur,(224,224))\n",
    "    resized=resized/255.0\n",
    "    resized=np.expand_dims(resized,axis=0)\n",
    "    pred=model1.predict(resized)\n",
    "    prediction=np.argmax(pred,axis=1)[0]\n",
    "    pct=str(int(np.max(pred,axis=1)[0]*100))\n",
    "    cv.putText(frame,labels[prediction]+pct+'%',(100,90),cv.FONT_HERSHEY_SIMPLEX,.8,(0,255,0),2)\n",
    "    cv.imshow('frame',frame)\n",
    "     \n",
    "    return blur\n",
    "    "
   ]
  },
  {
   "cell_type": "code",
   "execution_count": 17,
   "metadata": {},
   "outputs": [],
   "source": [
    "#live camera for detection\n",
    "c=cv.VideoCapture(0)\n",
    "while True:\n",
    "    ret,frame=c.read()\n",
    "    cv.imshow('aj',detect(frame))\n",
    "    if cv.waitKey(1)==13:\n",
    "        break\n",
    "cv.destroyAllWindows()\n"
   ]
  },
  {
   "cell_type": "code",
   "execution_count": 18,
   "metadata": {},
   "outputs": [],
   "source": [
    "# detection with threshold images for better shape detection"
   ]
  },
  {
   "cell_type": "code",
   "execution_count": 18,
   "metadata": {},
   "outputs": [],
   "source": [
    "#function for detecting the image from the live camera with threshold images \n",
    "def detect(frame): \n",
    "    cv.rectangle(frame,(100,100),(300,400),(0,255,0),2)\n",
    "    crop=frame[100:400,100:300]\n",
    "    blur=cv.GaussianBlur(crop,(3,3),-1)\n",
    "    ## to convert the image to hsv\n",
    "    hsv=cv.cvtColor(blur,cv.COLOR_BGR2HSV)\n",
    "    ret,thres=cv.threshold(hsv,127,255,0)\n",
    "    resized=cv.resize(thres,(224,224))\n",
    "    resized=resized/255.0\n",
    "    resized=np.expand_dims(resized,axis=0)\n",
    "    pred=model1.predict(resized)\n",
    "    prediction=np.argmax(pred,axis=1)[0]\n",
    "    pct=str(int(np.max(pred,axis=1)[0]*100))\n",
    "    cv.putText(frame,labels[prediction]+pct+'%',(100,90),cv.FONT_HERSHEY_SIMPLEX,.8,(0,255,0),2)\n",
    "    cv.imshow('frame',frame)\n",
    "     \n",
    "    return thres\n",
    "    "
   ]
  },
  {
   "cell_type": "code",
   "execution_count": 19,
   "metadata": {},
   "outputs": [],
   "source": [
    "#live camera for detection\n",
    "c=cv.VideoCapture(0)\n",
    "while True:\n",
    "    ret,frame=c.read()\n",
    "    cv.imshow('aj',detect(frame))\n",
    "    if cv.waitKey(1)==13:\n",
    "        break\n",
    "cv.destroyAllWindows()\n"
   ]
  },
  {
   "cell_type": "code",
   "execution_count": null,
   "metadata": {},
   "outputs": [],
   "source": [
    "\n"
   ]
  }
 ],
 "metadata": {
  "kernelspec": {
   "display_name": "Python 3",
   "language": "python",
   "name": "python3"
  },
  "language_info": {
   "codemirror_mode": {
    "name": "ipython",
    "version": 3
   },
   "file_extension": ".py",
   "mimetype": "text/x-python",
   "name": "python",
   "nbconvert_exporter": "python",
   "pygments_lexer": "ipython3",
   "version": "3.7.1"
  }
 },
 "nbformat": 4,
 "nbformat_minor": 2
}
